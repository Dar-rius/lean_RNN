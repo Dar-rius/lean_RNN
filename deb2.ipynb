{
 "cells": [
  {
   "cell_type": "markdown",
   "id": "529aebca",
   "metadata": {},
   "source": [
    "# Un projet test sur pytorch\n",
    "    Pour ceci c'est le dataset sur le digits de sklearn qui sera utiliser \n",
    "    "
   ]
  },
  {
   "cell_type": "code",
   "execution_count": 86,
   "id": "a00dc2cf",
   "metadata": {},
   "outputs": [],
   "source": [
    "from sklearn.datasets import load_digits\n",
    "from torch import nn\n",
    "import torch\n",
    "from torch.utils.data import DataLoader\n",
    "from sklearn.preprocessing import StandardScaler"
   ]
  },
  {
   "cell_type": "markdown",
   "id": "1a21906d",
   "metadata": {},
   "source": [
    "### Charge les donnees"
   ]
  },
  {
   "cell_type": "code",
   "execution_count": 87,
   "id": "79d8dc69",
   "metadata": {},
   "outputs": [
    {
     "name": "stdout",
     "output_type": "stream",
     "text": [
      "(1797, 8, 8)\n",
      "(1797,)\n"
     ]
    }
   ],
   "source": [
    "dataset= load_digits()\n",
    "features= dataset['images']\n",
    "targets= dataset['target']\n",
    "print(features.shape)\n",
    "print(targets.shape)"
   ]
  },
  {
   "cell_type": "markdown",
   "id": "b4d4c7c6",
   "metadata": {},
   "source": [
    "### Affichage d'une image pixeliser d'un nombre"
   ]
  },
  {
   "cell_type": "code",
   "execution_count": 88,
   "id": "49035c80",
   "metadata": {},
   "outputs": [
    {
     "data": {
      "text/plain": [
       "<Figure size 432x288 with 0 Axes>"
      ]
     },
     "metadata": {},
     "output_type": "display_data"
    },
    {
     "data": {
      "image/png": "[encoded data removed]",
      "text/plain": [
       "<Figure size 288x288 with 1 Axes>"
      ]
     },
     "metadata": {
      "needs_background": "light"
     },
     "output_type": "display_data"
    }
   ],
   "source": [
    "import matplotlib.pyplot as plt\n",
    "plt.gray()\n",
    "plt.matshow(features[1])\n",
    "plt.show()"
   ]
  },
  {
   "cell_type": "markdown",
   "id": "43ea83fc",
   "metadata": {},
   "source": [
    "### Standarisation des donnees"
   ]
  },
  {
   "cell_type": "code",
   "execution_count": 89,
   "id": "eefabada",
   "metadata": {},
   "outputs": [
    {
     "name": "stdout",
     "output_type": "stream",
     "text": [
      "(1797, 64)\n"
     ]
    }
   ],
   "source": [
    "features=features.reshape(-1, 64)\n",
    "print(features.shape)\n",
    "standard=StandardScaler()\n",
    "features=standard.fit_transform(features)"
   ]
  },
  {
   "cell_type": "code",
   "execution_count": 90,
   "id": "efd9c659",
   "metadata": {},
   "outputs": [
    {
     "name": "stdout",
     "output_type": "stream",
     "text": [
      "torch.Size([1797, 64])\n",
      "torch.Size([1797])\n"
     ]
    }
   ],
   "source": [
    "#transformer les donnees en tensor\n",
    "features= torch.tensor(features).type(torch.cuda.FloatTensor)\n",
    "targets= torch.tensor(targets).type(torch.cuda.FloatTensor)\n",
    "print(features.shape)\n",
    "print(targets.shape)"
   ]
  },
  {
   "cell_type": "markdown",
   "id": "7255923e",
   "metadata": {},
   "source": [
    "### Division des donnees en train et test set"
   ]
  },
  {
   "cell_type": "code",
   "execution_count": 91,
   "id": "656bf3b2",
   "metadata": {},
   "outputs": [
    {
     "name": "stdout",
     "output_type": "stream",
     "text": [
      "X_train:  torch.Size([1257, 64])  X_test:  torch.Size([540, 64])\n",
      "y_train:  torch.Size([1257])  y_test:  torch.Size([540])\n"
     ]
    }
   ],
   "source": [
    "from sklearn.model_selection import train_test_split\n",
    "\n",
    "X_train, X_test, y_train, y_test= train_test_split(features, targets, test_size=.3)\n",
    "print(\"X_train: \", X_train.shape, \" X_test: \", X_test.shape)\n",
    "print(\"y_train: \", y_train.shape, \" y_test: \", y_test.shape)"
   ]
  },
  {
   "cell_type": "code",
   "execution_count": 92,
   "id": "bfc915ed",
   "metadata": {},
   "outputs": [],
   "source": [
    "from torch.utils.data import TensorDataset\n",
    "\n",
    "trainData= TensorDataset(X_train, y_train)\n",
    "testData= TensorDataset(X_test, y_test)"
   ]
  },
  {
   "cell_type": "markdown",
   "id": "e8d9ef45",
   "metadata": {},
   "source": [
    "### charge les donnees avec les DataLoader avec un batch precis"
   ]
  },
  {
   "cell_type": "code",
   "execution_count": 93,
   "id": "d2d36a03",
   "metadata": {},
   "outputs": [
    {
     "name": "stdout",
     "output_type": "stream",
     "text": [
      "torch.Size([70, 64])  |  torch.Size([70])\n",
      "torch.float32  |  torch.float32\n",
      "torch.Size([70, 64])  |  torch.Size([70])\n",
      "torch.float32  |  torch.float32\n"
     ]
    }
   ],
   "source": [
    "batch=70\n",
    "dataTrain=DataLoader(trainData, batch_size=batch, shuffle=True)\n",
    "dataTest=DataLoader(testData, batch_size=batch, shuffle=True)\n",
    "\n",
    "for x, y in dataTrain:\n",
    "    print(x.shape, \" | \", y.shape)\n",
    "    print(x.dtype, \" | \", y.dtype)\n",
    "    break\n",
    "    \n",
    "for x, y in dataTest:\n",
    "    print(x.shape, \" | \", y.shape)\n",
    "    print(x.dtype, \" | \", y.dtype)\n",
    "    break"
   ]
  },
  {
   "cell_type": "markdown",
   "id": "c2219b65",
   "metadata": {},
   "source": [
    "### creation de RNN avec torch.nn"
   ]
  },
  {
   "cell_type": "code",
   "execution_count": 94,
   "id": "55878cf4",
   "metadata": {},
   "outputs": [
    {
     "name": "stdout",
     "output_type": "stream",
     "text": [
      "cuda\n"
     ]
    }
   ],
   "source": [
    "device= \"cuda\" if torch.cuda.is_available() else \"mps\" if torch.backends.mps.is_available() else \"cpu\"\n",
    "print(device)"
   ]
  },
  {
   "cell_type": "code",
   "execution_count": 95,
   "id": "e12813db",
   "metadata": {},
   "outputs": [
    {
     "name": "stdout",
     "output_type": "stream",
     "text": [
      "reseauNeuronal(\n",
      "  (flatten): Flatten(start_dim=1, end_dim=-1)\n",
      "  (linear_relu): Sequential(\n",
      "    (0): Linear(in_features=64, out_features=256, bias=True)\n",
      "    (1): ReLU()\n",
      "    (2): Linear(in_features=256, out_features=128, bias=True)\n",
      "    (3): ReLU()\n",
      "    (4): Linear(in_features=128, out_features=10, bias=True)\n",
      "  )\n",
      ")\n"
     ]
    }
   ],
   "source": [
    "class reseauNeuronal(nn.Module):\n",
    "    def __init__(self):\n",
    "        super().__init__()\n",
    "        self.flatten=nn.Flatten()\n",
    "        self.linear_relu=nn.Sequential(\n",
    "            nn.Linear(64, 256),\n",
    "            nn.ReLU(),\n",
    "            nn.Linear(256, 128),\n",
    "            nn.ReLU(),\n",
    "            nn.Linear(128, 10)\n",
    "        )\n",
    "        \n",
    "    def forward(self, x):\n",
    "        x = self.flatten(x)\n",
    "        logits = self.linear_relu(x)\n",
    "        return logits\n",
    "\n",
    "model=reseauNeuronal().to(device)\n",
    "print(model)"
   ]
  },
  {
   "cell_type": "markdown",
   "id": "9e45dd2d",
   "metadata": {},
   "source": [
    "### Train et test le modele"
   ]
  },
  {
   "cell_type": "code",
   "execution_count": 96,
   "id": "e320bf69",
   "metadata": {},
   "outputs": [],
   "source": [
    "optimizer= torch.optim.SGD(model.parameters(), lr=1e-3)\n",
    "loss= nn.CrossEntropyLoss()\n",
    "\n",
    "def train(datatrain, model, loss, optimizer):\n",
    "    size=len(datatrain.dataset)\n",
    "    model.train()\n",
    "    for batch, (x, y) in enumerate(datatrain):\n",
    "        y = y.type(torch.LongTensor) \n",
    "        x, y = x.to(device), y.to(device)\n",
    "        pred= model(x)\n",
    "        lossTrain= loss(pred, y)\n",
    "\n",
    "        optimizer.zero_grad()\n",
    "        lossTrain.backward()\n",
    "        optimizer.step()\n",
    "        if batch%100 == 0:\n",
    "            loss_train, current = lossTrain.item(), batch*len(x)\n",
    "            print(f\"loss: {loss_train:>7f} [{current:>5d}/{size:>5d}]\")\n",
    "            \n",
    "            \n",
    "def test(dataTest, model, loss):\n",
    "    lossTest, correct= 0, 0\n",
    "    size=len(dataTest.dataset)\n",
    "    numBatch=len(dataset)\n",
    "    model.eval()\n",
    "    \n",
    "    with torch.no_grad():\n",
    "        for x, y in dataTest:\n",
    "            y= y.type(torch.LongTensor)\n",
    "            x, y = x.to(device), y.to(device)\n",
    "            pred = model(x)\n",
    "            lossTest += loss(pred, y).item()\n",
    "            correct += (pred.argmax(1)==y).type(torch.float).sum().item()\n",
    "    lossTest /= numBatch\n",
    "    correct /= size\n",
    "    print(\"loss: \", lossTest, \"Accuracy: \", correct)"
   ]
  },
  {
   "cell_type": "code",
   "execution_count": 97,
   "id": "2c0c2f00",
   "metadata": {
    "scrolled": false
   },
   "outputs": [
    {
     "name": "stdout",
     "output_type": "stream",
     "text": [
      "Epoch  0  -----------------------------------------------\n",
      "loss: 2.309944 [    0/ 1257]\n",
      "loss:  2.6469126428876604 Accuracy:  0.06481481481481481\n",
      "! DONE \n",
      "\n",
      "Epoch  1  -----------------------------------------------\n",
      "loss: 2.329922 [    0/ 1257]\n",
      "loss:  2.6435584340776717 Accuracy:  0.07407407407407407\n",
      "! DONE \n",
      "\n",
      "Epoch  2  -----------------------------------------------\n",
      "loss: 2.310133 [    0/ 1257]\n",
      "loss:  2.64021829196385 Accuracy:  0.08333333333333333\n",
      "! DONE \n",
      "\n",
      "Epoch  3  -----------------------------------------------\n",
      "loss: 2.326340 [    0/ 1257]\n",
      "loss:  2.6360715116773332 Accuracy:  0.08703703703703704\n",
      "! DONE \n",
      "\n",
      "Epoch  4  -----------------------------------------------\n",
      "loss: 2.313391 [    0/ 1257]\n",
      "loss:  2.6325701645442416 Accuracy:  0.0962962962962963\n",
      "! DONE \n",
      "\n",
      "Epoch  5  -----------------------------------------------\n",
      "loss: 2.303829 [    0/ 1257]\n",
      "loss:  2.6288363933563232 Accuracy:  0.1\n",
      "! DONE \n",
      "\n",
      "Epoch  6  -----------------------------------------------\n",
      "loss: 2.298576 [    0/ 1257]\n",
      "loss:  2.625476769038609 Accuracy:  0.11296296296296296\n",
      "! DONE \n",
      "\n",
      "Epoch  7  -----------------------------------------------\n",
      "loss: 2.289156 [    0/ 1257]\n",
      "loss:  2.621959379741124 Accuracy:  0.1259259259259259\n",
      "! DONE \n",
      "\n",
      "Epoch  8  -----------------------------------------------\n",
      "loss: 2.285012 [    0/ 1257]\n",
      "loss:  2.6173600809914723 Accuracy:  0.13518518518518519\n",
      "! DONE \n",
      "\n",
      "Epoch  9  -----------------------------------------------\n",
      "loss: 2.304494 [    0/ 1257]\n",
      "loss:  2.613708734512329 Accuracy:  0.14444444444444443\n",
      "! DONE \n",
      "\n"
     ]
    }
   ],
   "source": [
    "for i in range(0,10):\n",
    "    print(\"Epoch \", i, \" -----------------------------------------------\")\n",
    "    train(dataTrain, model, loss, optimizer)\n",
    "    test(dataTest, model, loss)\n",
    "    print(\"! DONE \\n\")"
   ]
  },
  {
   "cell_type": "code",
   "execution_count": null,
   "id": "3b95b48f",
   "metadata": {},
   "outputs": [],
   "source": []
  }
 ],
 "metadata": {
  "kernelspec": {
   "display_name": "Python 3 (ipykernel)",
   "language": "python",
   "name": "python3"
  },
  "language_info": {
   "codemirror_mode": {
    "name": "ipython",
    "version": 3
   },
   "file_extension": ".py",
   "mimetype": "text/x-python",
   "name": "python",
   "nbconvert_exporter": "python",
   "pygments_lexer": "ipython3",
   "version": "3.9.7"
  }
 },
 "nbformat": 4,
 "nbformat_minor": 5
}
