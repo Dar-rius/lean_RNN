{
 "cells": [
  {
   "cell_type": "code",
   "execution_count": 1,
   "id": "11668a70",
   "metadata": {},
   "outputs": [],
   "source": [
    "import torch\n",
    "from torch import nn\n",
    "from torch.utils.data import DataLoader\n",
    "from torchvision import datasets\n",
    "from torchvision.transforms import ToTensor"
   ]
  },
  {
   "cell_type": "code",
   "execution_count": 2,
   "id": "bf86452f",
   "metadata": {},
   "outputs": [],
   "source": [
    "#telechargement des donnees de training et de testing\n",
    "train_set=datasets.FashionMNIST(\n",
    "    root='data',\n",
    "    train=True,\n",
    "    download=True,\n",
    "    transform=ToTensor()\n",
    ")\n",
    "\n",
    "test_set=datasets.FashionMNIST(\n",
    "    root='data',\n",
    "    train=False,\n",
    "    download=True,\n",
    "    transform=ToTensor()\n",
    ")"
   ]
  },
  {
   "cell_type": "code",
   "execution_count": 3,
   "id": "f3873e1a",
   "metadata": {},
   "outputs": [
    {
     "name": "stdout",
     "output_type": "stream",
     "text": [
      "<class 'torchvision.datasets.mnist.FashionMNIST'>\n",
      "<class 'torchvision.datasets.mnist.FashionMNIST'>\n"
     ]
    }
   ],
   "source": [
    "print(type(train_set))\n",
    "print(type(test_set))"
   ]
  },
  {
   "cell_type": "code",
   "execution_count": 4,
   "id": "910a9cb8",
   "metadata": {},
   "outputs": [
    {
     "name": "stdout",
     "output_type": "stream",
     "text": [
      "torch.Size([64, 1, 28, 28])\n",
      "torch.Size([64])\n"
     ]
    }
   ],
   "source": [
    "trainLoader=DataLoader(train_set, batch_size=64)\n",
    "testLoader=DataLoader(test_set, batch_size=64)\n",
    "for x, y in testLoader:\n",
    "    print(x.shape)\n",
    "    print(y.shape)\n",
    "    break"
   ]
  },
  {
   "cell_type": "code",
   "execution_count": 5,
   "id": "2de3ba98",
   "metadata": {},
   "outputs": [
    {
     "name": "stdout",
     "output_type": "stream",
     "text": [
      "cuda\n"
     ]
    }
   ],
   "source": [
    "#creation du modele\n",
    "device = \"cuda\" if torch.cuda.is_available() else \"mps\" if torch.backends.mps.is_available() else \"cpu\"\n",
    "print(device)"
   ]
  },
  {
   "cell_type": "code",
   "execution_count": 7,
   "id": "30666e07",
   "metadata": {},
   "outputs": [
    {
     "name": "stdout",
     "output_type": "stream",
     "text": [
      "ReseauNeuronal(\n",
      "  (flatten): Flatten(start_dim=1, end_dim=-1)\n",
      "  (linear_relu): Sequential(\n",
      "    (0): Linear(in_features=784, out_features=512, bias=True)\n",
      "    (1): ReLU()\n",
      "    (2): Linear(in_features=512, out_features=512, bias=True)\n",
      "    (3): ReLU()\n",
      "    (4): Linear(in_features=512, out_features=10, bias=True)\n",
      "  )\n",
      ")\n"
     ]
    }
   ],
   "source": [
    "class ReseauNeuronal(nn.Module):\n",
    "    def __init__(self):\n",
    "        super().__init__()\n",
    "        self.flatten=nn.Flatten()\n",
    "        self.linear_relu= nn.Sequential(\n",
    "            nn.Linear(28*28, 512),\n",
    "            nn.ReLU(),\n",
    "            nn.Linear(512, 512),\n",
    "            nn.ReLU(),\n",
    "            nn.Linear(512, 10)\n",
    "        )\n",
    "        \n",
    "    def forward(self, x):\n",
    "        X=self.flatten(x)\n",
    "        logits=self.linear_relu(X)\n",
    "        return logits\n",
    "\n",
    "model = ReseauNeuronal().to(device)\n",
    "print(model)"
   ]
  },
  {
   "cell_type": "code",
   "execution_count": 8,
   "id": "6d4d237b",
   "metadata": {},
   "outputs": [],
   "source": [
    "loss = nn.CrossEntropyLoss()\n",
    "optimizer= torch.optim.SGD(model.parameters(), lr=1e-3)\n",
    "\n",
    "#Fonction de trainning sur le model\n",
    "def train(trainLoader, model, loss, optimizer):\n",
    "    #Init les variables\n",
    "    size=len(trainLoader.dataset)\n",
    "    #train le modele\n",
    "    model.train()\n",
    "    #iter chacune des donnees sur le dataset pour entrainer le model\n",
    "    for batch, (X, y) in enumerate(trainLoader):\n",
    "        #on fait passer les tensor sur le device actuel\n",
    "        X, y = X.to(device), y.to(device)\n",
    "        #Entraine le modele\n",
    "        pred= model(X)\n",
    "        #Calcul des erreurs sur les predictions\n",
    "        loss_train= loss(pred, y)\n",
    "        \n",
    "        #la Backpropagation\n",
    "        #init l'optimizer\n",
    "        optimizer.zero_grad()\n",
    "        #la back pour le loss\n",
    "        loss_train.backward()\n",
    "        #on boucle l'optimization cette etape de l'opt\n",
    "        optimizer.step()\n",
    "        \n",
    "        if batch%100 == 0: \n",
    "            loss_train, current = loss_train.item(), batch*len(X)\n",
    "            print(f\"loss: {loss_train:>7f} [{current:>5d}/{size:>5d}]\")\n",
    "            \n",
    "            \n",
    "#Fonction de test sur le model\n",
    "def test(testLoader, model, loss):\n",
    "    #initalisation des variables\n",
    "    size=len(testLoader.dataset)\n",
    "    num_batch=len(testLoader)\n",
    "    #On evalue le model\n",
    "    model.eval()\n",
    "    #Variable pour le calcul des accuracy et le loss du modele\n",
    "    testLoss, correct=0, 0\n",
    "    with torch.no_grad():\n",
    "        for X, y in testLoader:\n",
    "            X, y= X.to(device), y.to(device)\n",
    "            pred=model(X)\n",
    "            testLoss+=loss(pred, y).item()\n",
    "            correct+=(pred.argmax(1)==y).type(torch.float).sum().item()\n",
    "    testLoss/=num_batch\n",
    "    correct/=size\n",
    "    print(\"Accuracy: \", correct, \" error: \", testLoss)"
   ]
  },
  {
   "cell_type": "code",
   "execution_count": 9,
   "id": "a61032a2",
   "metadata": {},
   "outputs": [
    {
     "name": "stdout",
     "output_type": "stream",
     "text": [
      "New Epoch  1 ----------------------\n",
      "loss: 2.296194 [    0/60000]\n",
      "loss: 2.288441 [ 6400/60000]\n",
      "loss: 2.271704 [12800/60000]\n",
      "loss: 2.269954 [19200/60000]\n",
      "loss: 2.242206 [25600/60000]\n",
      "loss: 2.230512 [32000/60000]\n",
      "loss: 2.230683 [38400/60000]\n",
      "loss: 2.196645 [44800/60000]\n",
      "loss: 2.190757 [51200/60000]\n",
      "loss: 2.169016 [57600/60000]\n",
      "Accuracy:  0.5162  error:  2.156654643405015\n",
      "DONE !\n",
      "New Epoch  2 ----------------------\n",
      "loss: 2.165758 [    0/60000]\n",
      "loss: 2.161873 [ 6400/60000]\n",
      "loss: 2.104283 [12800/60000]\n",
      "loss: 2.119757 [19200/60000]\n",
      "loss: 2.069596 [25600/60000]\n",
      "loss: 2.019304 [32000/60000]\n",
      "loss: 2.045591 [38400/60000]\n",
      "loss: 1.967601 [44800/60000]\n",
      "loss: 1.968678 [51200/60000]\n",
      "loss: 1.906802 [57600/60000]\n",
      "Accuracy:  0.5626  error:  1.899070382118225\n",
      "DONE !\n",
      "New Epoch  3 ----------------------\n",
      "loss: 1.937344 [    0/60000]\n",
      "loss: 1.912834 [ 6400/60000]\n",
      "loss: 1.792481 [12800/60000]\n",
      "loss: 1.826494 [19200/60000]\n",
      "loss: 1.722446 [25600/60000]\n",
      "loss: 1.679932 [32000/60000]\n",
      "loss: 1.704105 [38400/60000]\n",
      "loss: 1.598690 [44800/60000]\n",
      "loss: 1.618832 [51200/60000]\n",
      "loss: 1.527824 [57600/60000]\n",
      "Accuracy:  0.5915  error:  1.5338895184219263\n",
      "DONE !\n",
      "New Epoch  4 ----------------------\n",
      "loss: 1.607077 [    0/60000]\n",
      "loss: 1.575115 [ 6400/60000]\n",
      "loss: 1.417962 [12800/60000]\n",
      "loss: 1.484107 [19200/60000]\n",
      "loss: 1.364019 [25600/60000]\n",
      "loss: 1.366230 [32000/60000]\n",
      "loss: 1.386131 [38400/60000]\n",
      "loss: 1.301473 [44800/60000]\n",
      "loss: 1.330495 [51200/60000]\n",
      "loss: 1.247925 [57600/60000]\n",
      "Accuracy:  0.6237  error:  1.26240025508176\n",
      "DONE !\n"
     ]
    }
   ],
   "source": [
    "for i in range(1, 5):\n",
    "    print(\"New Epoch \",i, \"----------------------\")\n",
    "    train(trainLoader, model, loss, optimizer)\n",
    "    test(testLoader, model, loss)\n",
    "    print('DONE !')"
   ]
  },
  {
   "cell_type": "code",
   "execution_count": null,
   "id": "08dbe3fe",
   "metadata": {},
   "outputs": [],
   "source": []
  }
 ],
 "metadata": {
  "kernelspec": {
   "display_name": "Python 3 (ipykernel)",
   "language": "python",
   "name": "python3"
  },
  "language_info": {
   "codemirror_mode": {
    "name": "ipython",
    "version": 3
   },
   "file_extension": ".py",
   "mimetype": "text/x-python",
   "name": "python",
   "nbconvert_exporter": "python",
   "pygments_lexer": "ipython3",
   "version": "3.9.7"
  }
 },
 "nbformat": 4,
 "nbformat_minor": 5
}
