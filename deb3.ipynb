{
 "cells": [
  {
   "cell_type": "code",
   "execution_count": 95,
   "id": "0efa59d0",
   "metadata": {},
   "outputs": [
    {
     "name": "stdout",
     "output_type": "stream",
     "text": [
      "Requirement already satisfied: tensorflow in c:\\users\\moham\\anaconda3\\lib\\site-packages (2.11.0)\n",
      "Requirement already satisfied: tensorflow-intel==2.11.0 in c:\\users\\moham\\anaconda3\\lib\\site-packages (from tensorflow) (2.11.0)\n",
      "Requirement already satisfied: packaging in c:\\users\\moham\\anaconda3\\lib\\site-packages (from tensorflow-intel==2.11.0->tensorflow) (21.0)\n",
      "Requirement already satisfied: h5py>=2.9.0 in c:\\users\\moham\\anaconda3\\lib\\site-packages (from tensorflow-intel==2.11.0->tensorflow) (3.2.1)\n",
      "Requirement already satisfied: protobuf<3.20,>=3.9.2 in c:\\users\\moham\\anaconda3\\lib\\site-packages (from tensorflow-intel==2.11.0->tensorflow) (3.19.6)\n",
      "Requirement already satisfied: numpy>=1.20 in c:\\users\\moham\\anaconda3\\lib\\site-packages (from tensorflow-intel==2.11.0->tensorflow) (1.20.3)\n",
      "Requirement already satisfied: typing-extensions>=3.6.6 in c:\\users\\moham\\anaconda3\\lib\\site-packages (from tensorflow-intel==2.11.0->tensorflow) (3.10.0.2)\n",
      "Requirement already satisfied: termcolor>=1.1.0 in c:\\users\\moham\\anaconda3\\lib\\site-packages (from tensorflow-intel==2.11.0->tensorflow) (2.2.0)\n",
      "Requirement already satisfied: gast<=0.4.0,>=0.2.1 in c:\\users\\moham\\anaconda3\\lib\\site-packages (from tensorflow-intel==2.11.0->tensorflow) (0.4.0)\n",
      "Requirement already satisfied: absl-py>=1.0.0 in c:\\users\\moham\\anaconda3\\lib\\site-packages (from tensorflow-intel==2.11.0->tensorflow) (1.4.0)\n",
      "Requirement already satisfied: tensorflow-io-gcs-filesystem>=0.23.1 in c:\\users\\moham\\anaconda3\\lib\\site-packages (from tensorflow-intel==2.11.0->tensorflow) (0.30.0)\n",
      "Requirement already satisfied: setuptools in c:\\users\\moham\\anaconda3\\lib\\site-packages (from tensorflow-intel==2.11.0->tensorflow) (58.0.4)\n",
      "Requirement already satisfied: grpcio<2.0,>=1.24.3 in c:\\users\\moham\\anaconda3\\lib\\site-packages (from tensorflow-intel==2.11.0->tensorflow) (1.51.1)\n",
      "Requirement already satisfied: opt-einsum>=2.3.2 in c:\\users\\moham\\anaconda3\\lib\\site-packages (from tensorflow-intel==2.11.0->tensorflow) (3.3.0)\n",
      "Requirement already satisfied: google-pasta>=0.1.1 in c:\\users\\moham\\anaconda3\\lib\\site-packages (from tensorflow-intel==2.11.0->tensorflow) (0.2.0)\n",
      "Requirement already satisfied: keras<2.12,>=2.11.0 in c:\\users\\moham\\anaconda3\\lib\\site-packages (from tensorflow-intel==2.11.0->tensorflow) (2.11.0)\n",
      "Requirement already satisfied: libclang>=13.0.0 in c:\\users\\moham\\anaconda3\\lib\\site-packages (from tensorflow-intel==2.11.0->tensorflow) (15.0.6.1)\n",
      "Requirement already satisfied: astunparse>=1.6.0 in c:\\users\\moham\\anaconda3\\lib\\site-packages (from tensorflow-intel==2.11.0->tensorflow) (1.6.3)\n",
      "Requirement already satisfied: wrapt>=1.11.0 in c:\\users\\moham\\anaconda3\\lib\\site-packages (from tensorflow-intel==2.11.0->tensorflow) (1.12.1)\n",
      "Requirement already satisfied: six>=1.12.0 in c:\\users\\moham\\anaconda3\\lib\\site-packages (from tensorflow-intel==2.11.0->tensorflow) (1.16.0)\n",
      "Requirement already satisfied: flatbuffers>=2.0 in c:\\users\\moham\\anaconda3\\lib\\site-packages (from tensorflow-intel==2.11.0->tensorflow) (23.1.21)\n",
      "Requirement already satisfied: tensorboard<2.12,>=2.11 in c:\\users\\moham\\anaconda3\\lib\\site-packages (from tensorflow-intel==2.11.0->tensorflow) (2.11.2)\n",
      "Requirement already satisfied: tensorflow-estimator<2.12,>=2.11.0 in c:\\users\\moham\\anaconda3\\lib\\site-packages (from tensorflow-intel==2.11.0->tensorflow) (2.11.0)\n",
      "Requirement already satisfied: wheel<1.0,>=0.23.0 in c:\\users\\moham\\anaconda3\\lib\\site-packages (from astunparse>=1.6.0->tensorflow-intel==2.11.0->tensorflow) (0.37.0)\n",
      "Requirement already satisfied: google-auth-oauthlib<0.5,>=0.4.1 in c:\\users\\moham\\anaconda3\\lib\\site-packages (from tensorboard<2.12,>=2.11->tensorflow-intel==2.11.0->tensorflow) (0.4.6)\n",
      "Requirement already satisfied: markdown>=2.6.8 in c:\\users\\moham\\anaconda3\\lib\\site-packages (from tensorboard<2.12,>=2.11->tensorflow-intel==2.11.0->tensorflow) (3.4.1)\n",
      "Requirement already satisfied: tensorboard-data-server<0.7.0,>=0.6.0 in c:\\users\\moham\\anaconda3\\lib\\site-packages (from tensorboard<2.12,>=2.11->tensorflow-intel==2.11.0->tensorflow) (0.6.1)\n",
      "Requirement already satisfied: werkzeug>=1.0.1 in c:\\users\\moham\\anaconda3\\lib\\site-packages (from tensorboard<2.12,>=2.11->tensorflow-intel==2.11.0->tensorflow) (2.0.2)\n",
      "Requirement already satisfied: tensorboard-plugin-wit>=1.6.0 in c:\\users\\moham\\anaconda3\\lib\\site-packages (from tensorboard<2.12,>=2.11->tensorflow-intel==2.11.0->tensorflow) (1.8.1)\n",
      "Requirement already satisfied: requests<3,>=2.21.0 in c:\\users\\moham\\anaconda3\\lib\\site-packages (from tensorboard<2.12,>=2.11->tensorflow-intel==2.11.0->tensorflow) (2.26.0)\n",
      "Requirement already satisfied: google-auth<3,>=1.6.3 in c:\\users\\moham\\anaconda3\\lib\\site-packages (from tensorboard<2.12,>=2.11->tensorflow-intel==2.11.0->tensorflow) (2.16.0)\n",
      "Requirement already satisfied: pyasn1-modules>=0.2.1 in c:\\users\\moham\\anaconda3\\lib\\site-packages (from google-auth<3,>=1.6.3->tensorboard<2.12,>=2.11->tensorflow-intel==2.11.0->tensorflow) (0.2.8)\n",
      "Requirement already satisfied: cachetools<6.0,>=2.0.0 in c:\\users\\moham\\anaconda3\\lib\\site-packages (from google-auth<3,>=1.6.3->tensorboard<2.12,>=2.11->tensorflow-intel==2.11.0->tensorflow) (5.3.0)\n",
      "Requirement already satisfied: rsa<5,>=3.1.4 in c:\\users\\moham\\anaconda3\\lib\\site-packages (from google-auth<3,>=1.6.3->tensorboard<2.12,>=2.11->tensorflow-intel==2.11.0->tensorflow) (4.9)\n",
      "Requirement already satisfied: requests-oauthlib>=0.7.0 in c:\\users\\moham\\anaconda3\\lib\\site-packages (from google-auth-oauthlib<0.5,>=0.4.1->tensorboard<2.12,>=2.11->tensorflow-intel==2.11.0->tensorflow) (1.3.1)\n",
      "Requirement already satisfied: importlib-metadata>=4.4 in c:\\users\\moham\\anaconda3\\lib\\site-packages (from markdown>=2.6.8->tensorboard<2.12,>=2.11->tensorflow-intel==2.11.0->tensorflow) (4.8.1)\n",
      "Requirement already satisfied: zipp>=0.5 in c:\\users\\moham\\anaconda3\\lib\\site-packages (from importlib-metadata>=4.4->markdown>=2.6.8->tensorboard<2.12,>=2.11->tensorflow-intel==2.11.0->tensorflow) (3.6.0)\n",
      "Requirement already satisfied: pyasn1<0.5.0,>=0.4.6 in c:\\users\\moham\\anaconda3\\lib\\site-packages (from pyasn1-modules>=0.2.1->google-auth<3,>=1.6.3->tensorboard<2.12,>=2.11->tensorflow-intel==2.11.0->tensorflow) (0.4.8)\n",
      "Requirement already satisfied: certifi>=2017.4.17 in c:\\users\\moham\\anaconda3\\lib\\site-packages (from requests<3,>=2.21.0->tensorboard<2.12,>=2.11->tensorflow-intel==2.11.0->tensorflow) (2021.10.8)\n",
      "Requirement already satisfied: charset-normalizer~=2.0.0 in c:\\users\\moham\\anaconda3\\lib\\site-packages (from requests<3,>=2.21.0->tensorboard<2.12,>=2.11->tensorflow-intel==2.11.0->tensorflow) (2.0.4)\n",
      "Requirement already satisfied: urllib3<1.27,>=1.21.1 in c:\\users\\moham\\anaconda3\\lib\\site-packages (from requests<3,>=2.21.0->tensorboard<2.12,>=2.11->tensorflow-intel==2.11.0->tensorflow) (1.26.7)\n",
      "Requirement already satisfied: idna<4,>=2.5 in c:\\users\\moham\\anaconda3\\lib\\site-packages (from requests<3,>=2.21.0->tensorboard<2.12,>=2.11->tensorflow-intel==2.11.0->tensorflow) (3.2)\n",
      "Requirement already satisfied: oauthlib>=3.0.0 in c:\\users\\moham\\anaconda3\\lib\\site-packages (from requests-oauthlib>=0.7.0->google-auth-oauthlib<0.5,>=0.4.1->tensorboard<2.12,>=2.11->tensorflow-intel==2.11.0->tensorflow) (3.2.2)\n",
      "Requirement already satisfied: pyparsing>=2.0.2 in c:\\users\\moham\\anaconda3\\lib\\site-packages (from packaging->tensorflow-intel==2.11.0->tensorflow) (3.0.4)\n",
      "Requirement already satisfied: matplotlib in c:\\users\\moham\\anaconda3\\lib\\site-packages (3.4.3)\n",
      "Requirement already satisfied: seaborn in c:\\users\\moham\\anaconda3\\lib\\site-packages (0.11.2)\n",
      "Requirement already satisfied: pyparsing>=2.2.1 in c:\\users\\moham\\anaconda3\\lib\\site-packages (from matplotlib) (3.0.4)\n",
      "Requirement already satisfied: numpy>=1.16 in c:\\users\\moham\\anaconda3\\lib\\site-packages (from matplotlib) (1.20.3)\n",
      "Requirement already satisfied: kiwisolver>=1.0.1 in c:\\users\\moham\\anaconda3\\lib\\site-packages (from matplotlib) (1.3.1)\n",
      "Requirement already satisfied: python-dateutil>=2.7 in c:\\users\\moham\\anaconda3\\lib\\site-packages (from matplotlib) (2.8.2)\n",
      "Requirement already satisfied: pillow>=6.2.0 in c:\\users\\moham\\anaconda3\\lib\\site-packages (from matplotlib) (8.4.0)\n",
      "Requirement already satisfied: cycler>=0.10 in c:\\users\\moham\\anaconda3\\lib\\site-packages (from matplotlib) (0.10.0)\n",
      "Requirement already satisfied: pandas>=0.23 in c:\\users\\moham\\anaconda3\\lib\\site-packages (from seaborn) (1.3.4)\n",
      "Requirement already satisfied: scipy>=1.0 in c:\\users\\moham\\anaconda3\\lib\\site-packages (from seaborn) (1.7.1)\n",
      "Requirement already satisfied: six in c:\\users\\moham\\anaconda3\\lib\\site-packages (from cycler>=0.10->matplotlib) (1.16.0)\n",
      "Requirement already satisfied: pytz>=2017.3 in c:\\users\\moham\\anaconda3\\lib\\site-packages (from pandas>=0.23->seaborn) (2021.3)\n"
     ]
    }
   ],
   "source": [
    "! pip install tensorflow\n",
    "! pip install matplotlib seaborn"
   ]
  },
  {
   "cell_type": "code",
   "execution_count": 96,
   "id": "b47e8f00",
   "metadata": {},
   "outputs": [],
   "source": [
    "from sklearn.datasets import load_digits\n",
    "from sklearn.model_selection import train_test_split\n",
    "from sklearn.preprocessing import StandardScaler\n",
    "import numpy as np\n",
    "import tensorflow  as tf\n",
    "import matplotlib.pyplot as plt"
   ]
  },
  {
   "cell_type": "code",
   "execution_count": 97,
   "id": "dd92a676",
   "metadata": {},
   "outputs": [
    {
     "name": "stdout",
     "output_type": "stream",
     "text": [
      "(1797, 64)\n",
      "(1797,)\n"
     ]
    }
   ],
   "source": [
    "#Load dataset \n",
    "data= load_digits()\n",
    "\n",
    "X= data[\"images\"]\n",
    "X= X.reshape(-1, 64)\n",
    "y= data[\"target\"]\n",
    "\n",
    "print(X.shape)\n",
    "print(y.shape)"
   ]
  },
  {
   "cell_type": "code",
   "execution_count": 98,
   "id": "27aea7ac",
   "metadata": {},
   "outputs": [
    {
     "name": "stdout",
     "output_type": "stream",
     "text": [
      "X:  (1257, 64) ,  (540, 64)\n",
      "y:  (1257,) ,  (540,)\n"
     ]
    }
   ],
   "source": [
    "#StandScaler and train_test_split\n",
    "scaler= StandardScaler()\n",
    "X= scaler.fit_transform(X)\n",
    "X_train, X_test, y_train, y_test= train_test_split(X, y, test_size=.3)\n",
    "print(\"X: \", X_train.shape, \", \", X_test.shape)\n",
    "print(\"y: \", y_train.shape, \", \", y_test.shape)"
   ]
  },
  {
   "cell_type": "markdown",
   "id": "079fff1a",
   "metadata": {},
   "source": [
    "## Modeling "
   ]
  },
  {
   "cell_type": "code",
   "execution_count": 99,
   "id": "8730c2fa",
   "metadata": {},
   "outputs": [],
   "source": [
    "model = tf.keras.models.Sequential()\n",
    "model.add(tf.keras.layers.Flatten(input_shape=[64]))\n",
    "model.add(tf.keras.layers.Dense(256, input_dim=64, activation=\"relu\"))\n",
    "model.add(tf.keras.layers.Dense(128, activation=\"relu\"))\n",
    "model.add(tf.keras.layers.Dense(10, activation=\"softmax\"))"
   ]
  },
  {
   "cell_type": "code",
   "execution_count": 100,
   "id": "b834d032",
   "metadata": {},
   "outputs": [
    {
     "name": "stdout",
     "output_type": "stream",
     "text": [
      "Model: \"sequential_8\"\n",
      "_________________________________________________________________\n",
      " Layer (type)                Output Shape              Param #   \n",
      "=================================================================\n",
      " flatten_4 (Flatten)         (None, 64)                0         \n",
      "                                                                 \n",
      " dense_18 (Dense)            (None, 256)               16640     \n",
      "                                                                 \n",
      " dense_19 (Dense)            (None, 128)               32896     \n",
      "                                                                 \n",
      " dense_20 (Dense)            (None, 10)                1290      \n",
      "                                                                 \n",
      "=================================================================\n",
      "Total params: 50,826\n",
      "Trainable params: 50,826\n",
      "Non-trainable params: 0\n",
      "_________________________________________________________________\n"
     ]
    }
   ],
   "source": [
    "model.summary()"
   ]
  },
  {
   "cell_type": "code",
   "execution_count": 101,
   "id": "913b3518",
   "metadata": {},
   "outputs": [],
   "source": [
    "model.compile(\n",
    "    loss='sparse_categorical_crossentropy',\n",
    "    optimizer='sgd',\n",
    "    metrics=['accuracy']\n",
    ")"
   ]
  },
  {
   "cell_type": "code",
   "execution_count": 102,
   "id": "955ca322",
   "metadata": {},
   "outputs": [
    {
     "name": "stdout",
     "output_type": "stream",
     "text": [
      "Epoch 1/50\n",
      "32/32 [==============================] - 2s 20ms/step - loss: 2.2203 - accuracy: 0.1980 - val_loss: 1.9884 - val_accuracy: 0.3770\n",
      "Epoch 2/50\n",
      "32/32 [==============================] - 0s 6ms/step - loss: 1.8547 - accuracy: 0.5015 - val_loss: 1.6706 - val_accuracy: 0.6389\n",
      "Epoch 3/50\n",
      "32/32 [==============================] - 0s 6ms/step - loss: 1.5403 - accuracy: 0.6816 - val_loss: 1.3957 - val_accuracy: 0.7698\n",
      "Epoch 4/50\n",
      "32/32 [==============================] - 0s 7ms/step - loss: 1.2670 - accuracy: 0.7771 - val_loss: 1.1607 - val_accuracy: 0.8254\n",
      "Epoch 5/50\n",
      "32/32 [==============================] - 0s 7ms/step - loss: 1.0432 - accuracy: 0.8289 - val_loss: 0.9711 - val_accuracy: 0.8532\n",
      "Epoch 6/50\n",
      "32/32 [==============================] - 0s 6ms/step - loss: 0.8663 - accuracy: 0.8716 - val_loss: 0.8247 - val_accuracy: 0.8690\n",
      "Epoch 7/50\n",
      "32/32 [==============================] - 0s 6ms/step - loss: 0.7289 - accuracy: 0.8995 - val_loss: 0.7104 - val_accuracy: 0.8810\n",
      "Epoch 8/50\n",
      "32/32 [==============================] - 0s 7ms/step - loss: 0.6210 - accuracy: 0.9164 - val_loss: 0.6224 - val_accuracy: 0.8968\n",
      "Epoch 9/50\n",
      "32/32 [==============================] - 0s 7ms/step - loss: 0.5365 - accuracy: 0.9244 - val_loss: 0.5517 - val_accuracy: 0.9008\n",
      "Epoch 10/50\n",
      "32/32 [==============================] - 0s 7ms/step - loss: 0.4697 - accuracy: 0.9313 - val_loss: 0.4969 - val_accuracy: 0.9008\n",
      "Epoch 11/50\n",
      "32/32 [==============================] - 0s 6ms/step - loss: 0.4159 - accuracy: 0.9403 - val_loss: 0.4513 - val_accuracy: 0.9167\n",
      "Epoch 12/50\n",
      "32/32 [==============================] - 0s 7ms/step - loss: 0.3715 - accuracy: 0.9443 - val_loss: 0.4133 - val_accuracy: 0.9286\n",
      "Epoch 13/50\n",
      "32/32 [==============================] - 0s 6ms/step - loss: 0.3353 - accuracy: 0.9493 - val_loss: 0.3841 - val_accuracy: 0.9286\n",
      "Epoch 14/50\n",
      "32/32 [==============================] - 0s 7ms/step - loss: 0.3049 - accuracy: 0.9532 - val_loss: 0.3581 - val_accuracy: 0.9286\n",
      "Epoch 15/50\n",
      "32/32 [==============================] - 0s 6ms/step - loss: 0.2792 - accuracy: 0.9572 - val_loss: 0.3370 - val_accuracy: 0.9246\n",
      "Epoch 16/50\n",
      "32/32 [==============================] - 0s 6ms/step - loss: 0.2573 - accuracy: 0.9602 - val_loss: 0.3180 - val_accuracy: 0.9286\n",
      "Epoch 17/50\n",
      "32/32 [==============================] - 0s 7ms/step - loss: 0.2381 - accuracy: 0.9662 - val_loss: 0.3020 - val_accuracy: 0.9286\n",
      "Epoch 18/50\n",
      "32/32 [==============================] - 0s 7ms/step - loss: 0.2216 - accuracy: 0.9672 - val_loss: 0.2878 - val_accuracy: 0.9286\n",
      "Epoch 19/50\n",
      "32/32 [==============================] - 0s 6ms/step - loss: 0.2071 - accuracy: 0.9711 - val_loss: 0.2748 - val_accuracy: 0.9286\n",
      "Epoch 20/50\n",
      "32/32 [==============================] - 0s 7ms/step - loss: 0.1941 - accuracy: 0.9741 - val_loss: 0.2638 - val_accuracy: 0.9325\n",
      "Epoch 21/50\n",
      "32/32 [==============================] - 0s 6ms/step - loss: 0.1827 - accuracy: 0.9741 - val_loss: 0.2529 - val_accuracy: 0.9365\n",
      "Epoch 22/50\n",
      "32/32 [==============================] - 0s 6ms/step - loss: 0.1724 - accuracy: 0.9751 - val_loss: 0.2443 - val_accuracy: 0.9325\n",
      "Epoch 23/50\n",
      "32/32 [==============================] - 0s 6ms/step - loss: 0.1630 - accuracy: 0.9761 - val_loss: 0.2363 - val_accuracy: 0.9325\n",
      "Epoch 24/50\n",
      "32/32 [==============================] - 0s 7ms/step - loss: 0.1549 - accuracy: 0.9781 - val_loss: 0.2296 - val_accuracy: 0.9325\n",
      "Epoch 25/50\n",
      "32/32 [==============================] - 0s 7ms/step - loss: 0.1474 - accuracy: 0.9771 - val_loss: 0.2223 - val_accuracy: 0.9365\n",
      "Epoch 26/50\n",
      "32/32 [==============================] - 0s 7ms/step - loss: 0.1403 - accuracy: 0.9791 - val_loss: 0.2162 - val_accuracy: 0.9444\n",
      "Epoch 27/50\n",
      "32/32 [==============================] - 0s 7ms/step - loss: 0.1339 - accuracy: 0.9811 - val_loss: 0.2107 - val_accuracy: 0.9444\n",
      "Epoch 28/50\n",
      "32/32 [==============================] - 0s 6ms/step - loss: 0.1281 - accuracy: 0.9821 - val_loss: 0.2055 - val_accuracy: 0.9444\n",
      "Epoch 29/50\n",
      "32/32 [==============================] - 0s 6ms/step - loss: 0.1228 - accuracy: 0.9811 - val_loss: 0.2004 - val_accuracy: 0.9444\n",
      "Epoch 30/50\n",
      "32/32 [==============================] - 0s 6ms/step - loss: 0.1178 - accuracy: 0.9821 - val_loss: 0.1965 - val_accuracy: 0.9444\n",
      "Epoch 31/50\n",
      "32/32 [==============================] - 0s 6ms/step - loss: 0.1130 - accuracy: 0.9841 - val_loss: 0.1936 - val_accuracy: 0.9484\n",
      "Epoch 32/50\n",
      "32/32 [==============================] - 0s 6ms/step - loss: 0.1087 - accuracy: 0.9841 - val_loss: 0.1896 - val_accuracy: 0.9484\n",
      "Epoch 33/50\n",
      "32/32 [==============================] - 0s 6ms/step - loss: 0.1046 - accuracy: 0.9841 - val_loss: 0.1856 - val_accuracy: 0.9484\n",
      "Epoch 34/50\n",
      "32/32 [==============================] - 0s 6ms/step - loss: 0.1009 - accuracy: 0.9841 - val_loss: 0.1823 - val_accuracy: 0.9484\n",
      "Epoch 35/50\n",
      "32/32 [==============================] - 0s 4ms/step - loss: 0.0973 - accuracy: 0.9851 - val_loss: 0.1794 - val_accuracy: 0.9524\n",
      "Epoch 36/50\n",
      "32/32 [==============================] - 0s 4ms/step - loss: 0.0940 - accuracy: 0.9861 - val_loss: 0.1766 - val_accuracy: 0.9524\n",
      "Epoch 37/50\n",
      "32/32 [==============================] - 0s 6ms/step - loss: 0.0908 - accuracy: 0.9861 - val_loss: 0.1739 - val_accuracy: 0.9524\n",
      "Epoch 38/50\n",
      "32/32 [==============================] - 0s 6ms/step - loss: 0.0878 - accuracy: 0.9881 - val_loss: 0.1713 - val_accuracy: 0.9524\n",
      "Epoch 39/50\n",
      "32/32 [==============================] - 0s 6ms/step - loss: 0.0850 - accuracy: 0.9881 - val_loss: 0.1689 - val_accuracy: 0.9524\n",
      "Epoch 40/50\n",
      "32/32 [==============================] - 0s 7ms/step - loss: 0.0823 - accuracy: 0.9881 - val_loss: 0.1671 - val_accuracy: 0.9524\n",
      "Epoch 41/50\n",
      "32/32 [==============================] - 0s 6ms/step - loss: 0.0798 - accuracy: 0.9881 - val_loss: 0.1647 - val_accuracy: 0.9524\n",
      "Epoch 42/50\n",
      "32/32 [==============================] - 0s 7ms/step - loss: 0.0773 - accuracy: 0.9881 - val_loss: 0.1624 - val_accuracy: 0.9524\n",
      "Epoch 43/50\n",
      "32/32 [==============================] - 0s 7ms/step - loss: 0.0750 - accuracy: 0.9920 - val_loss: 0.1604 - val_accuracy: 0.9524\n",
      "Epoch 44/50\n",
      "32/32 [==============================] - 0s 7ms/step - loss: 0.0728 - accuracy: 0.9920 - val_loss: 0.1584 - val_accuracy: 0.9524\n",
      "Epoch 45/50\n",
      "32/32 [==============================] - 0s 6ms/step - loss: 0.0708 - accuracy: 0.9910 - val_loss: 0.1569 - val_accuracy: 0.9484\n",
      "Epoch 46/50\n",
      "32/32 [==============================] - 0s 6ms/step - loss: 0.0688 - accuracy: 0.9920 - val_loss: 0.1553 - val_accuracy: 0.9524\n",
      "Epoch 47/50\n",
      "32/32 [==============================] - 0s 6ms/step - loss: 0.0669 - accuracy: 0.9920 - val_loss: 0.1536 - val_accuracy: 0.9524\n",
      "Epoch 48/50\n",
      "32/32 [==============================] - 0s 6ms/step - loss: 0.0650 - accuracy: 0.9920 - val_loss: 0.1518 - val_accuracy: 0.9524\n",
      "Epoch 49/50\n",
      "32/32 [==============================] - 0s 7ms/step - loss: 0.0632 - accuracy: 0.9930 - val_loss: 0.1499 - val_accuracy: 0.9524\n",
      "Epoch 50/50\n",
      "32/32 [==============================] - 0s 5ms/step - loss: 0.0616 - accuracy: 0.9930 - val_loss: 0.1487 - val_accuracy: 0.9603\n"
     ]
    }
   ],
   "source": [
    "history=model.fit(X_train, y_train, epochs=50, validation_split=.2)"
   ]
  },
  {
   "cell_type": "code",
   "execution_count": 105,
   "id": "28c94286",
   "metadata": {},
   "outputs": [
    {
     "data": {
      "text/plain": [
       "<matplotlib.legend.Legend at 0x1b2fe2b4f10>"
      ]
     },
     "execution_count": 105,
     "metadata": {},
     "output_type": "execute_result"
    },
    {
     "data": {
      "image/png": "[encoded data removed]",
      "text/plain": [
       "<Figure size 432x288 with 1 Axes>"
      ]
     },
     "metadata": {
      "needs_background": "light"
     },
     "output_type": "display_data"
    },
    {
     "data": {
      "image/png": "[encoded data removed]",
      "text/plain": [
       "<Figure size 432x288 with 1 Axes>"
      ]
     },
     "metadata": {
      "needs_background": "light"
     },
     "output_type": "display_data"
    }
   ],
   "source": [
    "plt.figure()\n",
    "plt.plot(history.history[\"loss\"], label=\"loss\")\n",
    "plt.plot(history.history[\"val_loss\"], label=\"val_loss\")\n",
    "plt.title(\"Loss\")\n",
    "plt.legend()\n",
    "\n",
    "plt.figure()\n",
    "plt.plot(history.history[\"accuracy\"], label=\"accuracy\")\n",
    "plt.plot(history.history[\"val_accuracy\"], label=\"val_accuracy\")\n",
    "plt.title(\"Loss\")\n",
    "plt.legend()"
   ]
  },
  {
   "cell_type": "code",
   "execution_count": null,
   "id": "8fbbc280",
   "metadata": {},
   "outputs": [],
   "source": []
  }
 ],
 "metadata": {
  "kernelspec": {
   "display_name": "Python 3 (ipykernel)",
   "language": "python",
   "name": "python3"
  },
  "language_info": {
   "codemirror_mode": {
    "name": "ipython",
    "version": 3
   },
   "file_extension": ".py",
   "mimetype": "text/x-python",
   "name": "python",
   "nbconvert_exporter": "python",
   "pygments_lexer": "ipython3",
   "version": "3.9.7"
  }
 },
 "nbformat": 4,
 "nbformat_minor": 5
}
